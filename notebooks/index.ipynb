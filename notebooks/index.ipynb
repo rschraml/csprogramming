{
 "cells": [
  {
   "cell_type": "markdown",
   "metadata": {},
   "source": [
    "Einführung in Python\n",
    "===\n",
    "Hier findet Ihr alle Beispiele welche wir in den Übungen gmeinsam durchgemacht haben.\n"
   ]
  },
  {
   "cell_type": "markdown",
   "metadata": {},
   "source": [
    "1) Hello World\n",
    "---\n",
    "Nachdem wir Python auf unseren Rechnern installiert haben, ist es Zeit für unser erstes Python Programm: [Hello World](http://nbviewer.ipython.org/urls/raw.github.com/rschraml/csprogramming/master/notebooks/hello_world.ipynb)."
   ]
  }
 ],
 "metadata": {
  "celltoolbar": "Raw Cell Format",
  "kernelspec": {
   "display_name": "Python 3",
   "language": "python",
   "name": "python3"
  },
  "language_info": {
   "codemirror_mode": {
    "name": "ipython",
    "version": 3
   },
   "file_extension": ".py",
   "mimetype": "text/x-python",
   "name": "python",
   "nbconvert_exporter": "python",
   "pygments_lexer": "ipython3",
   "version": "3.4.4"
  }
 },
 "nbformat": 4,
 "nbformat_minor": 0
}
